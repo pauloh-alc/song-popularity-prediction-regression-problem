{
 "cells": [
  {
   "cell_type": "markdown",
   "id": "1335d819",
   "metadata": {},
   "source": [
    "# Trabalho de I.A\n",
    "\n",
    "Universidade: UFC - Universidade Federal do Ceará\n",
    "Curso: Ciência da Computação\n",
    "\n",
    "Alunos:\n",
    "- Paulo Henrique Diniz de Lima Alencar\n",
    "- Alysson Lucas Pinheiro"
   ]
  },
  {
   "cell_type": "markdown",
   "id": "8bbb9a0a",
   "metadata": {},
   "source": [
    "## 1. Escolha do problema e base de dados:\n",
    "\n",
    "Prever a popularidade da música é o objetivo principal. Assim, com base na energia, acústica, instrumentalidade, vivacidade, dança, etc. vamos buscar construir um modelo capaz de fazer as predições."
   ]
  }
 ],
 "metadata": {
  "kernelspec": {
   "display_name": "Python 3 (ipykernel)",
   "language": "python",
   "name": "python3"
  },
  "language_info": {
   "codemirror_mode": {
    "name": "ipython",
    "version": 3
   },
   "file_extension": ".py",
   "mimetype": "text/x-python",
   "name": "python",
   "nbconvert_exporter": "python",
   "pygments_lexer": "ipython3",
   "version": "3.10.6"
  }
 },
 "nbformat": 4,
 "nbformat_minor": 5
}
